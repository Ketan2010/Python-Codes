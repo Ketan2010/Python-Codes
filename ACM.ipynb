{
  "nbformat": 4,
  "nbformat_minor": 0,
  "metadata": {
    "colab": {
      "name": "ACM.ipynb",
      "provenance": [],
      "collapsed_sections": [],
      "authorship_tag": "ABX9TyPrhmbkRQs3Lb8JSh+M4ScM",
      "include_colab_link": true
    },
    "kernelspec": {
      "name": "python3",
      "display_name": "Python 3"
    }
  },
  "cells": [
    {
      "cell_type": "markdown",
      "metadata": {
        "id": "view-in-github",
        "colab_type": "text"
      },
      "source": [
        "<a href=\"https://colab.research.google.com/github/Ketan2010/Python-Codes/blob/master/ACM.ipynb\" target=\"_parent\"><img src=\"https://colab.research.google.com/assets/colab-badge.svg\" alt=\"Open In Colab\"/></a>"
      ]
    },
    {
      "cell_type": "code",
      "metadata": {
        "id": "KbBIGrSvi5sZ",
        "outputId": "7b9e3bda-c77c-4437-d907-fe0f71071180",
        "colab": {
          "base_uri": "https://localhost:8080/",
          "height": 71
        }
      },
      "source": [
        "#find sum of digits of factorial of number\n",
        "n= int(input(\"Enter the number: \"))\n",
        "r,k=1,0\n",
        "for i in range(1,n+1):\n",
        "  r *= i\n",
        "l = list(map(int, str(r)))\n",
        "for i in l:\n",
        "  k += i; \n",
        "print(k,\" \",r)\n",
        "  "
      ],
      "execution_count": null,
      "outputs": [
        {
          "output_type": "stream",
          "text": [
            "Enter the number100\n",
            "648   93326215443944152681699238856266700490715968264381621468592963895217599993229915608941463976156518286253697920827223758251185210916864000000000000000000000000\n"
          ],
          "name": "stdout"
        }
      ]
    },
    {
      "cell_type": "code",
      "metadata": {
        "id": "-hnqexPuntOu",
        "outputId": "449145d5-1296-4cb7-d85c-fb059db676b7",
        "colab": {
          "base_uri": "https://localhost:8080/",
          "height": 248
        }
      },
      "source": [
        "#find maximum prime factor of number\n",
        "n = int(input(\"Enter the number: \"))\n",
        "l=[]\n",
        "k=[]\n",
        "def isprime(x):\n",
        "  f=0\n",
        "  for i in range(1,x+1):\n",
        "    if(x%i == 0):\n",
        "      f += 1\n",
        "  if(f==2):\n",
        "    return True\n",
        "  else:\n",
        "    return False\n",
        "\n",
        "for i in range(1,n+1):\n",
        "  if(n%i==0):\n",
        "    k.append(i)\n",
        "    if(isprime(i)):\n",
        "      l.append(i)\n",
        "\n",
        "max = l[0]\n",
        "for i in l:\n",
        "  if(max<i):\n",
        "    max=i\n",
        "print(k)\n",
        "print(l)\n",
        "print(\"max : \",max)\n",
        "\n",
        "\n",
        "    \n",
        "\n"
      ],
      "execution_count": null,
      "outputs": [
        {
          "output_type": "stream",
          "text": [
            "Enter the number: 600851475143\n"
          ],
          "name": "stdout"
        },
        {
          "output_type": "error",
          "ename": "KeyboardInterrupt",
          "evalue": "ignored",
          "traceback": [
            "\u001b[0;31m---------------------------------------------------------------------------\u001b[0m",
            "\u001b[0;31mKeyboardInterrupt\u001b[0m                         Traceback (most recent call last)",
            "\u001b[0;32m<ipython-input-33-b9f84316e668>\u001b[0m in \u001b[0;36m<module>\u001b[0;34m()\u001b[0m\n\u001b[1;32m     14\u001b[0m \u001b[0;34m\u001b[0m\u001b[0m\n\u001b[1;32m     15\u001b[0m \u001b[0;32mfor\u001b[0m \u001b[0mi\u001b[0m \u001b[0;32min\u001b[0m \u001b[0mrange\u001b[0m\u001b[0;34m(\u001b[0m\u001b[0;36m1\u001b[0m\u001b[0;34m,\u001b[0m\u001b[0mn\u001b[0m\u001b[0;34m+\u001b[0m\u001b[0;36m1\u001b[0m\u001b[0;34m)\u001b[0m\u001b[0;34m:\u001b[0m\u001b[0;34m\u001b[0m\u001b[0;34m\u001b[0m\u001b[0m\n\u001b[0;32m---> 16\u001b[0;31m   \u001b[0;32mif\u001b[0m\u001b[0;34m(\u001b[0m\u001b[0mn\u001b[0m\u001b[0;34m%\u001b[0m\u001b[0mi\u001b[0m\u001b[0;34m==\u001b[0m\u001b[0;36m0\u001b[0m\u001b[0;34m)\u001b[0m\u001b[0;34m:\u001b[0m\u001b[0;34m\u001b[0m\u001b[0;34m\u001b[0m\u001b[0m\n\u001b[0m\u001b[1;32m     17\u001b[0m     \u001b[0mk\u001b[0m\u001b[0;34m.\u001b[0m\u001b[0mappend\u001b[0m\u001b[0;34m(\u001b[0m\u001b[0mi\u001b[0m\u001b[0;34m)\u001b[0m\u001b[0;34m\u001b[0m\u001b[0;34m\u001b[0m\u001b[0m\n\u001b[1;32m     18\u001b[0m     \u001b[0;32mif\u001b[0m\u001b[0;34m(\u001b[0m\u001b[0misprime\u001b[0m\u001b[0;34m(\u001b[0m\u001b[0mi\u001b[0m\u001b[0;34m)\u001b[0m\u001b[0;34m)\u001b[0m\u001b[0;34m:\u001b[0m\u001b[0;34m\u001b[0m\u001b[0;34m\u001b[0m\u001b[0m\n",
            "\u001b[0;31mKeyboardInterrupt\u001b[0m: "
          ]
        }
      ]
    },
    {
      "cell_type": "code",
      "metadata": {
        "id": "IhiywdNft23A",
        "outputId": "5a9cdf2a-fb5b-4df8-c08f-2f36f0ad8cfa",
        "colab": {
          "base_uri": "https://localhost:8080/",
          "height": 350
        }
      },
      "source": [
        "import re\n",
        "hand = open('')\n",
        "r = []\n",
        "for line in hand:\n",
        "\tline = line.rstrip()\n",
        "\ty = re.findall('[0-9]+',line)\n",
        "\tr.append(y)\n",
        "print(sum(r))\n"
      ],
      "execution_count": null,
      "outputs": [
        {
          "output_type": "error",
          "ename": "ValueError",
          "evalue": "ignored",
          "traceback": [
            "\u001b[0;31m---------------------------------------------------------------------------\u001b[0m",
            "\u001b[0;31mValueError\u001b[0m                                Traceback (most recent call last)",
            "\u001b[0;32m<ipython-input-7-2bcc0c45e5bd>\u001b[0m in \u001b[0;36m<module>\u001b[0;34m()\u001b[0m\n\u001b[1;32m      1\u001b[0m \u001b[0;32mimport\u001b[0m \u001b[0mre\u001b[0m\u001b[0;34m\u001b[0m\u001b[0;34m\u001b[0m\u001b[0m\n\u001b[1;32m      2\u001b[0m \u001b[0;32mfrom\u001b[0m \u001b[0mgoogle\u001b[0m\u001b[0;34m.\u001b[0m\u001b[0mcolab\u001b[0m \u001b[0;32mimport\u001b[0m \u001b[0mdrive\u001b[0m\u001b[0;34m\u001b[0m\u001b[0;34m\u001b[0m\u001b[0m\n\u001b[0;32m----> 3\u001b[0;31m \u001b[0mhand\u001b[0m \u001b[0;34m=\u001b[0m \u001b[0mdrive\u001b[0m\u001b[0;34m.\u001b[0m\u001b[0mmount\u001b[0m\u001b[0;34m(\u001b[0m\u001b[0;34m'https://drive.google.com/file/d/153IaN05zM5Kjudwd7y0uzLFxrsnjgcgk/view?usp=sharing'\u001b[0m\u001b[0;34m)\u001b[0m\u001b[0;34m\u001b[0m\u001b[0;34m\u001b[0m\u001b[0m\n\u001b[0m\u001b[1;32m      4\u001b[0m \u001b[0mr\u001b[0m \u001b[0;34m=\u001b[0m \u001b[0mlist\u001b[0m\u001b[0;34m(\u001b[0m\u001b[0;34m)\u001b[0m\u001b[0;34m\u001b[0m\u001b[0;34m\u001b[0m\u001b[0m\n\u001b[1;32m      5\u001b[0m \u001b[0;32mfor\u001b[0m \u001b[0mline\u001b[0m \u001b[0;32min\u001b[0m \u001b[0mhand\u001b[0m\u001b[0;34m:\u001b[0m\u001b[0;34m\u001b[0m\u001b[0;34m\u001b[0m\u001b[0m\n",
            "\u001b[0;32m/usr/local/lib/python3.6/dist-packages/google/colab/drive.py\u001b[0m in \u001b[0;36mmount\u001b[0;34m(mountpoint, force_remount, timeout_ms, use_metadata_server)\u001b[0m\n\u001b[1;32m    156\u001b[0m     \u001b[0mnormed\u001b[0m \u001b[0;34m=\u001b[0m \u001b[0m_os\u001b[0m\u001b[0;34m.\u001b[0m\u001b[0mpath\u001b[0m\u001b[0;34m.\u001b[0m\u001b[0mnormpath\u001b[0m\u001b[0;34m(\u001b[0m\u001b[0mmountpoint\u001b[0m\u001b[0;34m)\u001b[0m\u001b[0;34m\u001b[0m\u001b[0;34m\u001b[0m\u001b[0m\n\u001b[1;32m    157\u001b[0m     \u001b[0;32mif\u001b[0m \u001b[0;34m'/'\u001b[0m \u001b[0;32min\u001b[0m \u001b[0mnormed\u001b[0m \u001b[0;32mand\u001b[0m \u001b[0;32mnot\u001b[0m \u001b[0m_os\u001b[0m\u001b[0;34m.\u001b[0m\u001b[0mpath\u001b[0m\u001b[0;34m.\u001b[0m\u001b[0mexists\u001b[0m\u001b[0;34m(\u001b[0m\u001b[0m_os\u001b[0m\u001b[0;34m.\u001b[0m\u001b[0mpath\u001b[0m\u001b[0;34m.\u001b[0m\u001b[0mdirname\u001b[0m\u001b[0;34m(\u001b[0m\u001b[0mnormed\u001b[0m\u001b[0;34m)\u001b[0m\u001b[0;34m)\u001b[0m\u001b[0;34m:\u001b[0m\u001b[0;34m\u001b[0m\u001b[0;34m\u001b[0m\u001b[0m\n\u001b[0;32m--> 158\u001b[0;31m       \u001b[0;32mraise\u001b[0m \u001b[0mValueError\u001b[0m\u001b[0;34m(\u001b[0m\u001b[0;34m'Mountpoint must be in a directory that exists'\u001b[0m\u001b[0;34m)\u001b[0m\u001b[0;34m\u001b[0m\u001b[0;34m\u001b[0m\u001b[0m\n\u001b[0m\u001b[1;32m    159\u001b[0m   \u001b[0;32mexcept\u001b[0m\u001b[0;34m:\u001b[0m\u001b[0;34m\u001b[0m\u001b[0;34m\u001b[0m\u001b[0m\n\u001b[1;32m    160\u001b[0m     \u001b[0md\u001b[0m\u001b[0;34m.\u001b[0m\u001b[0mkill\u001b[0m\u001b[0;34m(\u001b[0m\u001b[0m_signal\u001b[0m\u001b[0;34m.\u001b[0m\u001b[0mSIGKILL\u001b[0m\u001b[0;34m)\u001b[0m\u001b[0;34m\u001b[0m\u001b[0;34m\u001b[0m\u001b[0m\n",
            "\u001b[0;31mValueError\u001b[0m: Mountpoint must be in a directory that exists"
          ]
        }
      ]
    },
    {
      "cell_type": "code",
      "metadata": {
        "id": "DG5KRy5QW-D2",
        "outputId": "5a280617-14bb-44f5-ec00-501d806492a9",
        "colab": {
          "base_uri": "https://localhost:8080/",
          "height": 102
        }
      },
      "source": [
        "import numpy as np\n",
        "from scipy import stats\n",
        "speed = [32,111,138,28,59,77,97]\n",
        "x = np.var(speed)\n",
        "print(x)\n",
        "x = np.std(speed)\n",
        "print(x)\n",
        "x = np.mean(speed)\n",
        "print(x)\n",
        "x = np.median(speed)\n",
        "print(x)\n",
        "x = stats.mode(speed)\n",
        "print(x)"
      ],
      "execution_count": null,
      "outputs": [
        {
          "output_type": "stream",
          "text": [
            "1432.2448979591834\n",
            "37.84501153334721\n",
            "77.42857142857143\n",
            "77.0\n",
            "ModeResult(mode=array([28]), count=array([1]))\n"
          ],
          "name": "stdout"
        }
      ]
    },
    {
      "cell_type": "code",
      "metadata": {
        "id": "odP5JaqfMgQB",
        "outputId": "da912af3-0151-4af5-b998-6a947e268b1d",
        "colab": {
          "base_uri": "https://localhost:8080/",
          "height": 85
        }
      },
      "source": [
        "import numpy as np\n",
        "arr_1D = np.array([[1,2,3,4],[2,6,9,4],[5,1,6,3],[3,2,5,6]])\n",
        "print(arr_1D) "
      ],
      "execution_count": null,
      "outputs": [
        {
          "output_type": "stream",
          "text": [
            "[[1 2 3 4]\n",
            " [2 6 9 4]\n",
            " [5 1 6 3]\n",
            " [3 2 5 6]]\n"
          ],
          "name": "stdout"
        }
      ]
    },
    {
      "cell_type": "code",
      "metadata": {
        "id": "ciG7n-RDNH6a",
        "outputId": "aa90cee8-3fc8-486c-84ee-12776e995e2d",
        "colab": {
          "base_uri": "https://localhost:8080/",
          "height": 34
        }
      },
      "source": [
        "type(arr_1D)"
      ],
      "execution_count": null,
      "outputs": [
        {
          "output_type": "execute_result",
          "data": {
            "text/plain": [
              "numpy.ndarray"
            ]
          },
          "metadata": {
            "tags": []
          },
          "execution_count": 4
        }
      ]
    },
    {
      "cell_type": "code",
      "metadata": {
        "id": "HdxxPpkBQ0OW",
        "outputId": "7bb10ecd-30b6-48f4-d295-957b100a4902",
        "colab": {
          "base_uri": "https://localhost:8080/",
          "height": 34
        }
      },
      "source": [
        "np.size(arr_1D)"
      ],
      "execution_count": null,
      "outputs": [
        {
          "output_type": "execute_result",
          "data": {
            "text/plain": [
              "16"
            ]
          },
          "metadata": {
            "tags": []
          },
          "execution_count": 5
        }
      ]
    },
    {
      "cell_type": "code",
      "metadata": {
        "id": "pCq8VGOaRLnn",
        "outputId": "9b3b7dfb-9bbb-42b4-de4b-42fcd158664c",
        "colab": {
          "base_uri": "https://localhost:8080/",
          "height": 51
        }
      },
      "source": [
        "#AMAZON PROBLEM\n",
        "array = [4,1,1,2,1,3]\n",
        "value = 1\n",
        "array = [i for i in array if i!= value ]\n",
        "print(array)\n",
        "print(\"length :\",len(array))"
      ],
      "execution_count": null,
      "outputs": [
        {
          "output_type": "stream",
          "text": [
            "[4, 2, 3]\n",
            "length : 3\n"
          ],
          "name": "stdout"
        }
      ]
    },
    {
      "cell_type": "code",
      "metadata": {
        "id": "Af63CAJGkzG7",
        "outputId": "6d89a2e1-c527-4d96-cfdd-68e41bbe54bb",
        "colab": {
          "base_uri": "https://localhost:8080/",
          "height": 102
        }
      },
      "source": [
        "def fibo(n):\n",
        "  if n <= 1:\n",
        "    return n\n",
        "  else:\n",
        "    return ( fibo(n-1)+ fibo(n-2))\n",
        "\n",
        "n = 5\n",
        "for i in range(n):\n",
        "  print(fibo(i))"
      ],
      "execution_count": null,
      "outputs": [
        {
          "output_type": "stream",
          "text": [
            "0\n",
            "1\n",
            "1\n",
            "2\n",
            "3\n"
          ],
          "name": "stdout"
        }
      ]
    },
    {
      "cell_type": "code",
      "metadata": {
        "id": "o44VdPdpsmiQ",
        "outputId": "4a94002d-129d-4621-df0d-7f0341a637cf",
        "colab": {
          "base_uri": "https://localhost:8080/",
          "height": 34
        }
      },
      "source": [
        "from numpy import random as rd\n",
        "x = rd.randint(100,size=(10))\n",
        "print(x)\n"
      ],
      "execution_count": null,
      "outputs": [
        {
          "output_type": "stream",
          "text": [
            "[41 91 87 55 58 10 71 76  2 26]\n"
          ],
          "name": "stdout"
        }
      ]
    },
    {
      "cell_type": "code",
      "metadata": {
        "id": "g75XW5d0PQGq",
        "outputId": "4ba68945-8c25-4846-b9a3-4b6a5ab1389d",
        "colab": {
          "base_uri": "https://localhost:8080/",
          "height": 295
        }
      },
      "source": [
        "from matplotlib import pyplot as plt\n",
        "plt.bar([1,3,5,7],[1,2,3,4],label=\"example one\",color='g')\n",
        "plt.bar([2,4,6,8],[5,2,8,1],label=\"example two\",color='c')\n",
        "plt.title(\"bar graph\")\n",
        "plt.xlabel(\"x-axis\")\n",
        "plt.ylabel(\"y-axis\")\n",
        "#to show legend on corner\n",
        "plt.legend()\n",
        "plt.show()\n"
      ],
      "execution_count": null,
      "outputs": [
        {
          "output_type": "display_data",
          "data": {
            "image/png": "[encoded data removed]",
            "text/plain": [
              "<Figure size 432x288 with 1 Axes>"
            ]
          },
          "metadata": {
            "tags": [],
            "needs_background": "light"
          }
        }
      ]
    },
    {
      "cell_type": "code",
      "metadata": {
        "id": "YCivUH5lPcko",
        "outputId": "96ca31e4-14d3-4346-fef7-4fff7472ac27",
        "colab": {
          "base_uri": "https://localhost:8080/",
          "height": 312
        }
      },
      "source": [
        "from matplotlib import pyplot as plt\n",
        "days = [1,2,3,4,5,6,7,8,9,10]\n",
        "temp =[34.9,45.0,67.9,45.5,67.5,63.7,45.6,44.5,34.5,23.9]\n",
        "plt.plot(days,temp)\n",
        "plt.xlabel(\"x-axis\")\n",
        "plt.ylabel(\"y-axis\")\n",
        "plt.title(\"bar graph\")\n",
        "plt.legend()\n",
        "plt.show()"
      ],
      "execution_count": null,
      "outputs": [
        {
          "output_type": "stream",
          "text": [
            "No handles with labels found to put in legend.\n"
          ],
          "name": "stderr"
        },
        {
          "output_type": "display_data",
          "data": {
            "image/png": "[encoded data removed]",
            "text/plain": [
              "<Figure size 432x288 with 1 Axes>"
            ]
          },
          "metadata": {
            "tags": [],
            "needs_background": "light"
          }
        }
      ]
    },
    {
      "cell_type": "code",
      "metadata": {
        "id": "Bv88sUFrQW5v",
        "outputId": "5819e1dd-bfb9-494c-f5ab-612a64ae4764",
        "colab": {
          "base_uri": "https://localhost:8080/",
          "height": 312
        }
      },
      "source": [
        "from matplotlib import pyplot as plt\n",
        "days = [1,2,3,4,5,6,7,8,9,10]\n",
        "temp =[34.9,45.0,67.9,45.5,67.5,63.7,45.6,44.5,34.5,23.9]\n",
        "plt.plot(days,temp,color=\"g\",marker=\"o\",linestyle=\":\",linewidth=3,markersize=10)\n",
        "plt.xlabel(\"x-axis\")\n",
        "plt.ylabel(\"y-axis\")\n",
        "plt.title(\"bar graph\")\n",
        "plt.legend()\n",
        "plt.show()"
      ],
      "execution_count": null,
      "outputs": [
        {
          "output_type": "stream",
          "text": [
            "No handles with labels found to put in legend.\n"
          ],
          "name": "stderr"
        },
        {
          "output_type": "display_data",
          "data": {
            "image/png": "[encoded data removed]",
            "text/plain": [
              "<Figure size 432x288 with 1 Axes>"
            ]
          },
          "metadata": {
            "tags": [],
            "needs_background": "light"
          }
        }
      ]
    },
    {
      "cell_type": "code",
      "metadata": {
        "id": "_fWd61z5TSxG",
        "outputId": "0d20ebf7-defd-4206-e714-5c6231a39a95",
        "colab": {
          "base_uri": "https://localhost:8080/",
          "height": 295
        }
      },
      "source": [
        "from matplotlib import pyplot as plt\n",
        "days = [1,2,3,4,5,6,7,8,9,10]\n",
        "temp_delhi =[34.9,45.0,67.9,45.5,67.5,63.7,45.6,44.5,34.5,23.9]\n",
        "temp_mumbai =[36.9,35.0,57.9,25.5,37.5,43.7,55.6,24.5,34.5,13.9]\n",
        "plt.plot(days,temp_delhi,color=\"g\",marker=\"o\",linestyle=\":\",linewidth=3,markersize=10,label=\"Delhi Temp\")\n",
        "plt.plot(days,temp_mumbai,color=\"c\",marker=\"o\",linestyle=\":\",linewidth=3,markersize=10,label=\"Mumbai Line\")\n",
        "plt.xlabel(\"Tempreture\")\n",
        "plt.ylabel(\"Days\")\n",
        "plt.title(\"Temp Analisys\")\n",
        "plt.legend(loc=1)\n",
        "plt.grid(color=\"k\",linestyle=\"-\",linewidth=1)\n",
        "plt.show()"
      ],
      "execution_count": null,
      "outputs": [
        {
          "output_type": "display_data",
          "data": {
            "image/png": "[encoded data removed]",
            "text/plain": [
              "<Figure size 432x288 with 1 Axes>"
            ]
          },
          "metadata": {
            "tags": [],
            "needs_background": "light"
          }
        }
      ]
    },
    {
      "cell_type": "code",
      "metadata": {
        "id": "xWzTogOGXZ7X",
        "outputId": "a5be51ac-13c1-45cf-fbe4-112cc74e53bd",
        "colab": {
          "base_uri": "https://localhost:8080/",
          "height": 51
        }
      },
      "source": [
        "!pip install cv2"
      ],
      "execution_count": null,
      "outputs": [
        {
          "output_type": "stream",
          "text": [
            "\u001b[31mERROR: Could not find a version that satisfies the requirement cv2 (from versions: none)\u001b[0m\n",
            "\u001b[31mERROR: No matching distribution found for cv2\u001b[0m\n"
          ],
          "name": "stdout"
        }
      ]
    },
    {
      "cell_type": "code",
      "metadata": {
        "id": "0SZAfj5Y9FH0",
        "outputId": "5ac47668-2889-4633-a0be-047071b9861b",
        "colab": {
          "base_uri": "https://localhost:8080/",
          "height": 35
        }
      },
      "source": [
        "import cv2\n",
        "cv2.__version__\n"
      ],
      "execution_count": null,
      "outputs": [
        {
          "output_type": "execute_result",
          "data": {
            "application/vnd.google.colaboratory.intrinsic+json": {
              "type": "string"
            },
            "text/plain": [
              "'4.1.2'"
            ]
          },
          "metadata": {
            "tags": []
          },
          "execution_count": 2
        }
      ]
    },
    {
      "cell_type": "code",
      "metadata": {
        "id": "8MV5RgJF9X42"
      },
      "source": [
        "#import libraries\n",
        "import numpy as np\n",
        "import cv2\n",
        "import time\n",
        "#video capture object with 0th webcam \n",
        "cap = cv2.VideoCapture(0)\n",
        "#to adjust camera according to env\n",
        "time.sleep(2)\n",
        "background = 0\n",
        "#to get proper image of backgrownd before running in ret object\n",
        "for i in range(30):\n",
        "  ret,background = cap.read()\n",
        "#run while loop content till image is capturing \n",
        "while(cap.isOpened()):\n",
        "  #captuer image seperately\n",
        "  ret, img = cap.read()\n",
        "  if not ret:\n",
        "    break\n",
        "  #BGR : Blue, Green, Red; HSV: Hue Saturation Value\n",
        "  hsv = cv2.cvtColor(img, cv2.COLOR_BGR2HSV)\n",
        "  #color saturation uses 360 angles for color but in opencv we\n",
        "  #have only 8 bits to store color value 2^8 = 255 ;\n",
        "  #hence we cannot store color value having angle greater than 255 \n",
        "  #HSV values \n",
        "  lower_red = np.array([0,120,70])\n",
        "  upper_red = np.array([10,255,255])\n",
        "  #seperating cloak part\n",
        "  mask1 = cv2.inRange(hsv, lower_red, upper_red)\n",
        "\n",
        "  lower_red = np.array([170,120,70])\n",
        "  upper_red = np.array([180,255,255])\n",
        "  mask2 = cv2.inRange(hsv, lower_red, upper_red)\n",
        "\n",
        "  mask1 = mask1 + mask2\n",
        "  #to remove noise\n",
        "  mask1 = cv2.morphologyEx(mask1, cv2.MORPH_OPEN, np.ones((3,3),np.uint8),iterations = 2)\n",
        "  #to increase smoothness\n",
        "  mask1 = cv2.morphologyEx(mask1, cv2.MORPH_DILATE, np.ones((3,3),np.uint8),iterations = 1)\n",
        "  #mask2 will hold part other than cloak\n",
        "  mask2 = cv2.bitwise_not(mask1)\n",
        "  #for segmentation of color\n",
        "  res1 = cv2.bitwise_and(backgrownd, backgrownd, mask= mask1)\n",
        "  #substitute clpak part\n",
        "  res2 = cv2.bitwise_and(img,img, mask=mask2)\n",
        "\n",
        "  final_output = cv2.addWeighted(res1, 1, res2, 1, 0)\n",
        "  cv2.imshow('well !', final_output)\n",
        "  k = cv2.waitKey(10)\n",
        "  if k == 27:\n",
        "    break\n",
        "cap.release()\n",
        "cv2.destroyAllWindows()\n",
        "\n",
        "\n"
      ],
      "execution_count": null,
      "outputs": []
    },
    {
      "cell_type": "code",
      "metadata": {
        "id": "xBJYd4Ul6WP8"
      },
      "source": [
        "import pandas as pd\n"
      ],
      "execution_count": null,
      "outputs": []
    },
    {
      "cell_type": "markdown",
      "metadata": {
        "id": "UVqmsDdW2qAK"
      },
      "source": [
        " Loading data from list of dictionary into dataframe"
      ]
    },
    {
      "cell_type": "code",
      "metadata": {
        "id": "l7ZRYln709pq",
        "outputId": "87c869ec-31f2-454c-c163-f744477ee69a",
        "colab": {
          "base_uri": "https://localhost:8080/",
          "height": 142
        }
      },
      "source": [
        "l1= {\"name\":[\"ketan\",\"lav\",\"darshan\"],\"marks\":[10,12,13]}\n",
        "d= pd.DataFrame(l1)\n",
        "d"
      ],
      "execution_count": null,
      "outputs": [
        {
          "output_type": "execute_result",
          "data": {
            "text/html": [
              "<div>\n",
              "<style scoped>\n",
              "    .dataframe tbody tr th:only-of-type {\n",
              "        vertical-align: middle;\n",
              "    }\n",
              "\n",
              "    .dataframe tbody tr th {\n",
              "        vertical-align: top;\n",
              "    }\n",
              "\n",
              "    .dataframe thead th {\n",
              "        text-align: right;\n",
              "    }\n",
              "</style>\n",
              "<table border=\"1\" class=\"dataframe\">\n",
              "  <thead>\n",
              "    <tr style=\"text-align: right;\">\n",
              "      <th></th>\n",
              "      <th>name</th>\n",
              "      <th>marks</th>\n",
              "    </tr>\n",
              "  </thead>\n",
              "  <tbody>\n",
              "    <tr>\n",
              "      <th>0</th>\n",
              "      <td>ketan</td>\n",
              "      <td>10</td>\n",
              "    </tr>\n",
              "    <tr>\n",
              "      <th>1</th>\n",
              "      <td>lav</td>\n",
              "      <td>12</td>\n",
              "    </tr>\n",
              "    <tr>\n",
              "      <th>2</th>\n",
              "      <td>darshan</td>\n",
              "      <td>13</td>\n",
              "    </tr>\n",
              "  </tbody>\n",
              "</table>\n",
              "</div>"
            ],
            "text/plain": [
              "      name  marks\n",
              "0    ketan     10\n",
              "1      lav     12\n",
              "2  darshan     13"
            ]
          },
          "metadata": {
            "tags": []
          },
          "execution_count": 3
        }
      ]
    },
    {
      "cell_type": "code",
      "metadata": {
        "id": "jfYWBDjh1Ygk"
      },
      "source": [
        ""
      ],
      "execution_count": null,
      "outputs": []
    }
  ]
}